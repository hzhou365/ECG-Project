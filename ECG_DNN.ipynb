{
 "cells": [
  {
   "cell_type": "markdown",
   "metadata": {},
   "source": [
    "# Deep Learning ECG Heareat Categorization\n",
    "\n",
    "https://www.kaggle.com/shayanfazeli/heartbeat#mitbih_test.csv"
   ]
  },
  {
   "cell_type": "markdown",
   "metadata": {},
   "source": [
    "# Objective\n",
    "\n",
    "Predict heart disease from a digitized ECG Reading"
   ]
  },
  {
   "cell_type": "markdown",
   "metadata": {},
   "source": [
    "# Data Pre-Processing\n",
    "Note: This dataset has already been scaled"
   ]
  },
  {
   "cell_type": "code",
   "execution_count": 1,
   "metadata": {},
   "outputs": [
    {
     "name": "stderr",
     "output_type": "stream",
     "text": [
      "Using TensorFlow backend.\n"
     ]
    }
   ],
   "source": [
    "import os\n",
    "import tensorflow as tf\n",
    "from keras.models import Sequential\n",
    "from keras.utils import to_categorical\n",
    "from keras.layers import Dense"
   ]
  },
  {
   "cell_type": "code",
   "execution_count": 2,
   "metadata": {},
   "outputs": [],
   "source": [
    "import numpy as np\n",
    "import pandas as pd"
   ]
  },
  {
   "cell_type": "code",
   "execution_count": 3,
   "metadata": {},
   "outputs": [],
   "source": [
    "# Training Data Paths\n",
    "X_training_data = os.path.join(\"..\", \"Resources\", \"Train\", \"X_train.csv\")\n",
    "y_training_data = os.path.join(\"..\", \"Resources\", \"Train\", \"y_train.txt\")"
   ]
  },
  {
   "cell_type": "code",
   "execution_count": 4,
   "metadata": {},
   "outputs": [],
   "source": [
    "# Testing Data Paths\n",
    "X_testing_data = os.path.join(\"..\", \"Resources\", \"Test\", \"X_test.csv\")\n",
    "y_testing_data = os.path.join(\"..\", \"Resources\", \"Test\", \"y_test.txt\")"
   ]
  },
  {
   "cell_type": "code",
   "execution_count": 5,
   "metadata": {},
   "outputs": [
    {
     "data": {
      "text/html": [
       "<div>\n",
       "<style scoped>\n",
       "    .dataframe tbody tr th:only-of-type {\n",
       "        vertical-align: middle;\n",
       "    }\n",
       "\n",
       "    .dataframe tbody tr th {\n",
       "        vertical-align: top;\n",
       "    }\n",
       "\n",
       "    .dataframe thead th {\n",
       "        text-align: right;\n",
       "    }\n",
       "</style>\n",
       "<table border=\"1\" class=\"dataframe\">\n",
       "  <thead>\n",
       "    <tr style=\"text-align: right;\">\n",
       "      <th></th>\n",
       "      <th>0</th>\n",
       "      <th>1</th>\n",
       "      <th>2</th>\n",
       "      <th>3</th>\n",
       "      <th>4</th>\n",
       "      <th>5</th>\n",
       "      <th>6</th>\n",
       "      <th>7</th>\n",
       "      <th>8</th>\n",
       "      <th>9</th>\n",
       "      <th>...</th>\n",
       "      <th>177</th>\n",
       "      <th>178</th>\n",
       "      <th>179</th>\n",
       "      <th>180</th>\n",
       "      <th>181</th>\n",
       "      <th>182</th>\n",
       "      <th>183</th>\n",
       "      <th>184</th>\n",
       "      <th>185</th>\n",
       "      <th>186</th>\n",
       "    </tr>\n",
       "  </thead>\n",
       "  <tbody>\n",
       "    <tr>\n",
       "      <th>0</th>\n",
       "      <td>0.960</td>\n",
       "      <td>0.863</td>\n",
       "      <td>0.462</td>\n",
       "      <td>0.1970</td>\n",
       "      <td>0.0940</td>\n",
       "      <td>0.1250</td>\n",
       "      <td>0.0997</td>\n",
       "      <td>0.0883</td>\n",
       "      <td>0.0741</td>\n",
       "      <td>0.0826</td>\n",
       "      <td>...</td>\n",
       "      <td>0.0</td>\n",
       "      <td>0.0</td>\n",
       "      <td>0.0</td>\n",
       "      <td>0.0</td>\n",
       "      <td>0.0</td>\n",
       "      <td>0.0</td>\n",
       "      <td>0.0</td>\n",
       "      <td>0.0</td>\n",
       "      <td>0.0</td>\n",
       "      <td>0.0</td>\n",
       "    </tr>\n",
       "    <tr>\n",
       "      <th>1</th>\n",
       "      <td>1.000</td>\n",
       "      <td>0.659</td>\n",
       "      <td>0.186</td>\n",
       "      <td>0.0703</td>\n",
       "      <td>0.0703</td>\n",
       "      <td>0.0595</td>\n",
       "      <td>0.0568</td>\n",
       "      <td>0.0432</td>\n",
       "      <td>0.0541</td>\n",
       "      <td>0.0459</td>\n",
       "      <td>...</td>\n",
       "      <td>0.0</td>\n",
       "      <td>0.0</td>\n",
       "      <td>0.0</td>\n",
       "      <td>0.0</td>\n",
       "      <td>0.0</td>\n",
       "      <td>0.0</td>\n",
       "      <td>0.0</td>\n",
       "      <td>0.0</td>\n",
       "      <td>0.0</td>\n",
       "      <td>0.0</td>\n",
       "    </tr>\n",
       "    <tr>\n",
       "      <th>2</th>\n",
       "      <td>0.925</td>\n",
       "      <td>0.666</td>\n",
       "      <td>0.541</td>\n",
       "      <td>0.2760</td>\n",
       "      <td>0.1960</td>\n",
       "      <td>0.0773</td>\n",
       "      <td>0.0718</td>\n",
       "      <td>0.0608</td>\n",
       "      <td>0.0663</td>\n",
       "      <td>0.0580</td>\n",
       "      <td>...</td>\n",
       "      <td>0.0</td>\n",
       "      <td>0.0</td>\n",
       "      <td>0.0</td>\n",
       "      <td>0.0</td>\n",
       "      <td>0.0</td>\n",
       "      <td>0.0</td>\n",
       "      <td>0.0</td>\n",
       "      <td>0.0</td>\n",
       "      <td>0.0</td>\n",
       "      <td>0.0</td>\n",
       "    </tr>\n",
       "    <tr>\n",
       "      <th>3</th>\n",
       "      <td>0.967</td>\n",
       "      <td>1.000</td>\n",
       "      <td>0.831</td>\n",
       "      <td>0.5870</td>\n",
       "      <td>0.3570</td>\n",
       "      <td>0.2490</td>\n",
       "      <td>0.1460</td>\n",
       "      <td>0.0892</td>\n",
       "      <td>0.1170</td>\n",
       "      <td>0.1500</td>\n",
       "      <td>...</td>\n",
       "      <td>0.0</td>\n",
       "      <td>0.0</td>\n",
       "      <td>0.0</td>\n",
       "      <td>0.0</td>\n",
       "      <td>0.0</td>\n",
       "      <td>0.0</td>\n",
       "      <td>0.0</td>\n",
       "      <td>0.0</td>\n",
       "      <td>0.0</td>\n",
       "      <td>0.0</td>\n",
       "    </tr>\n",
       "    <tr>\n",
       "      <th>4</th>\n",
       "      <td>0.927</td>\n",
       "      <td>1.000</td>\n",
       "      <td>0.627</td>\n",
       "      <td>0.1930</td>\n",
       "      <td>0.0950</td>\n",
       "      <td>0.0725</td>\n",
       "      <td>0.0432</td>\n",
       "      <td>0.0535</td>\n",
       "      <td>0.0933</td>\n",
       "      <td>0.1900</td>\n",
       "      <td>...</td>\n",
       "      <td>0.0</td>\n",
       "      <td>0.0</td>\n",
       "      <td>0.0</td>\n",
       "      <td>0.0</td>\n",
       "      <td>0.0</td>\n",
       "      <td>0.0</td>\n",
       "      <td>0.0</td>\n",
       "      <td>0.0</td>\n",
       "      <td>0.0</td>\n",
       "      <td>0.0</td>\n",
       "    </tr>\n",
       "  </tbody>\n",
       "</table>\n",
       "<p>5 rows × 187 columns</p>\n",
       "</div>"
      ],
      "text/plain": [
       "     0      1      2       3       4       5       6       7       8    \\\n",
       "0  0.960  0.863  0.462  0.1970  0.0940  0.1250  0.0997  0.0883  0.0741   \n",
       "1  1.000  0.659  0.186  0.0703  0.0703  0.0595  0.0568  0.0432  0.0541   \n",
       "2  0.925  0.666  0.541  0.2760  0.1960  0.0773  0.0718  0.0608  0.0663   \n",
       "3  0.967  1.000  0.831  0.5870  0.3570  0.2490  0.1460  0.0892  0.1170   \n",
       "4  0.927  1.000  0.627  0.1930  0.0950  0.0725  0.0432  0.0535  0.0933   \n",
       "\n",
       "      9    ...  177  178  179  180  181  182  183  184  185  186  \n",
       "0  0.0826  ...  0.0  0.0  0.0  0.0  0.0  0.0  0.0  0.0  0.0  0.0  \n",
       "1  0.0459  ...  0.0  0.0  0.0  0.0  0.0  0.0  0.0  0.0  0.0  0.0  \n",
       "2  0.0580  ...  0.0  0.0  0.0  0.0  0.0  0.0  0.0  0.0  0.0  0.0  \n",
       "3  0.1500  ...  0.0  0.0  0.0  0.0  0.0  0.0  0.0  0.0  0.0  0.0  \n",
       "4  0.1900  ...  0.0  0.0  0.0  0.0  0.0  0.0  0.0  0.0  0.0  0.0  \n",
       "\n",
       "[5 rows x 187 columns]"
      ]
     },
     "execution_count": 5,
     "metadata": {},
     "output_type": "execute_result"
    }
   ],
   "source": [
    "# Read the training data into a dataframe\n",
    "X_train_df = pd.read_csv(\n",
    "    X_training_data, delimiter=\",\", skiprows=1, header=None)\n",
    "X_train_df.head()"
   ]
  },
  {
   "cell_type": "code",
   "execution_count": 6,
   "metadata": {},
   "outputs": [],
   "source": [
    "# Convert the dataframe to a numpy array for Keras\n",
    "X_train = X_train_df.values"
   ]
  },
  {
   "cell_type": "code",
   "execution_count": 7,
   "metadata": {},
   "outputs": [
    {
     "data": {
      "text/plain": [
       "0.8933458248070807"
      ]
     },
     "execution_count": 7,
     "metadata": {},
     "output_type": "execute_result"
    }
   ],
   "source": [
    "# Read in the training labels as a dataframe\n",
    "y_train_df = pd.read_csv(y_training_data)\n",
    "\n",
    "# One-hot encode the integer labels\n",
    "# 0 Normal_Beat\n",
    "# 1 Supraventricular premature beat\n",
    "# 2 Premature ventricular contraction\n",
    "# 3 Fusion of ventricular and normal beat\n",
    "\n",
    "\n",
    "y_train = to_categorical(y_train_df)\n",
    "y_train[:10]\n",
    "y_train.sum(axis=0)\n",
    "72470/(len(y_train))"
   ]
  },
  {
   "cell_type": "code",
   "execution_count": 8,
   "metadata": {},
   "outputs": [
    {
     "data": {
      "text/plain": [
       "(20283, 187)"
      ]
     },
     "execution_count": 8,
     "metadata": {},
     "output_type": "execute_result"
    }
   ],
   "source": [
    "# Read the testing data\n",
    "X_test_df = pd.read_csv(X_testing_data, delimiter=\",\", skiprows=1, header=None)\n",
    "X_test = X_test_df.values\n",
    "X_test.shape"
   ]
  },
  {
   "cell_type": "code",
   "execution_count": 9,
   "metadata": {},
   "outputs": [
    {
     "data": {
      "text/plain": [
       "(20283, 4)"
      ]
     },
     "execution_count": 9,
     "metadata": {},
     "output_type": "execute_result"
    }
   ],
   "source": [
    "# Read the testing labels\n",
    "y_test_df = pd.read_csv(y_testing_data)\n",
    "# One-hot encode the integer labels\n",
    "y_test = to_categorical(y_test_df)\n",
    "y_test.shape"
   ]
  },
  {
   "cell_type": "markdown",
   "metadata": {},
   "source": [
    "# Build a Deep Neural Network"
   ]
  },
  {
   "cell_type": "code",
   "execution_count": 10,
   "metadata": {},
   "outputs": [],
   "source": [
    "# Create an empty sequential model\n",
    "model = Sequential()"
   ]
  },
  {
   "cell_type": "code",
   "execution_count": 11,
   "metadata": {},
   "outputs": [
    {
     "name": "stdout",
     "output_type": "stream",
     "text": [
      "WARNING:tensorflow:From C:\\Users\\cris.bangaoil\\AppData\\Local\\conda\\conda\\envs\\ml\\lib\\site-packages\\tensorflow\\python\\framework\\op_def_library.py:263: colocate_with (from tensorflow.python.framework.ops) is deprecated and will be removed in a future version.\n",
      "Instructions for updating:\n",
      "Colocations handled automatically by placer.\n"
     ]
    }
   ],
   "source": [
    "# Add the first layer where the input dimensions are the 187 columns of the training data\n",
    "model.add(Dense(100, activation='relu', input_dim=X_train.shape[1]))\n"
   ]
  },
  {
   "cell_type": "code",
   "execution_count": 12,
   "metadata": {},
   "outputs": [],
   "source": [
    "# Add a second hidden layer\n",
    "model.add(Dense(100, activation='relu'))\n"
   ]
  },
  {
   "cell_type": "code",
   "execution_count": 13,
   "metadata": {},
   "outputs": [
    {
     "data": {
      "text/plain": [
       "(81122, 4)"
      ]
     },
     "execution_count": 13,
     "metadata": {},
     "output_type": "execute_result"
    }
   ],
   "source": [
    "# The output layer has 4 columns that are one-hot encoded\n",
    "y_train.shape"
   ]
  },
  {
   "cell_type": "code",
   "execution_count": 14,
   "metadata": {},
   "outputs": [],
   "source": [
    "# Add output layer\n",
    "model.add(Dense(y_train.shape[1], activation=\"softmax\"))"
   ]
  },
  {
   "cell_type": "code",
   "execution_count": 15,
   "metadata": {},
   "outputs": [],
   "source": [
    "# Compile the model using categorical_crossentropy for the loss function, the adam optimizer,\n",
    "# and add accuracy to the training metrics\n",
    "model.compile(loss=\"categorical_crossentropy\",\n",
    "              optimizer=\"adam\", metrics=['accuracy'])"
   ]
  },
  {
   "cell_type": "code",
   "execution_count": 16,
   "metadata": {},
   "outputs": [
    {
     "name": "stdout",
     "output_type": "stream",
     "text": [
      "WARNING:tensorflow:From C:\\Users\\cris.bangaoil\\AppData\\Local\\conda\\conda\\envs\\ml\\lib\\site-packages\\tensorflow\\python\\ops\\math_ops.py:3066: to_int32 (from tensorflow.python.ops.math_ops) is deprecated and will be removed in a future version.\n",
      "Instructions for updating:\n",
      "Use tf.cast instead.\n",
      "Train on 81122 samples, validate on 20283 samples\n",
      "Epoch 1/100\n",
      " - 9s - loss: 0.1893 - acc: 0.9471 - val_loss: 0.1320 - val_acc: 0.9636\n",
      "Epoch 2/100\n",
      " - 8s - loss: 0.1192 - acc: 0.9672 - val_loss: 0.1101 - val_acc: 0.9718\n",
      "Epoch 3/100\n",
      " - 8s - loss: 0.1026 - acc: 0.9713 - val_loss: 0.1056 - val_acc: 0.9713\n",
      "Epoch 4/100\n",
      " - 8s - loss: 0.0925 - acc: 0.9742 - val_loss: 0.1018 - val_acc: 0.9734\n",
      "Epoch 5/100\n",
      " - 8s - loss: 0.0855 - acc: 0.9759 - val_loss: 0.1178 - val_acc: 0.9670\n",
      "Epoch 6/100\n",
      " - 8s - loss: 0.0812 - acc: 0.9769 - val_loss: 0.0908 - val_acc: 0.9760\n",
      "Epoch 7/100\n",
      " - 8s - loss: 0.0746 - acc: 0.9781 - val_loss: 0.1068 - val_acc: 0.9708\n",
      "Epoch 8/100\n",
      " - 8s - loss: 0.0706 - acc: 0.9794 - val_loss: 0.1000 - val_acc: 0.9732\n",
      "Epoch 9/100\n",
      " - 8s - loss: 0.0674 - acc: 0.9800 - val_loss: 0.0875 - val_acc: 0.9769\n",
      "Epoch 10/100\n",
      " - 8s - loss: 0.0635 - acc: 0.9809 - val_loss: 0.0814 - val_acc: 0.9780\n",
      "Epoch 11/100\n",
      " - 8s - loss: 0.0602 - acc: 0.9815 - val_loss: 0.0910 - val_acc: 0.9765\n",
      "Epoch 12/100\n",
      " - 8s - loss: 0.0579 - acc: 0.9824 - val_loss: 0.0842 - val_acc: 0.9778\n",
      "Epoch 13/100\n",
      " - 8s - loss: 0.0545 - acc: 0.9831 - val_loss: 0.0787 - val_acc: 0.9793\n",
      "Epoch 14/100\n",
      " - 8s - loss: 0.0531 - acc: 0.9839 - val_loss: 0.0838 - val_acc: 0.9789\n",
      "Epoch 15/100\n",
      " - 8s - loss: 0.0508 - acc: 0.9842 - val_loss: 0.0842 - val_acc: 0.9796\n",
      "Epoch 16/100\n",
      " - 8s - loss: 0.0494 - acc: 0.9850 - val_loss: 0.0821 - val_acc: 0.9788\n",
      "Epoch 17/100\n",
      " - 8s - loss: 0.0471 - acc: 0.9853 - val_loss: 0.0818 - val_acc: 0.9789\n",
      "Epoch 18/100\n",
      " - 8s - loss: 0.0467 - acc: 0.9855 - val_loss: 0.0854 - val_acc: 0.9789\n",
      "Epoch 19/100\n",
      " - 8s - loss: 0.0440 - acc: 0.9859 - val_loss: 0.0836 - val_acc: 0.9780\n",
      "Epoch 20/100\n",
      " - 8s - loss: 0.0425 - acc: 0.9865 - val_loss: 0.0912 - val_acc: 0.9762\n",
      "Epoch 21/100\n",
      " - 8s - loss: 0.0415 - acc: 0.9869 - val_loss: 0.0878 - val_acc: 0.9795\n",
      "Epoch 22/100\n",
      " - 8s - loss: 0.0405 - acc: 0.9872 - val_loss: 0.1256 - val_acc: 0.9761\n",
      "Epoch 23/100\n",
      " - 8s - loss: 0.0385 - acc: 0.9876 - val_loss: 0.0893 - val_acc: 0.9802\n",
      "Epoch 24/100\n",
      " - 8s - loss: 0.0371 - acc: 0.9883 - val_loss: 0.0845 - val_acc: 0.9796\n",
      "Epoch 25/100\n",
      " - 8s - loss: 0.0369 - acc: 0.9879 - val_loss: 0.0923 - val_acc: 0.9785\n",
      "Epoch 26/100\n",
      " - 8s - loss: 0.0352 - acc: 0.9885 - val_loss: 0.0897 - val_acc: 0.9797\n",
      "Epoch 27/100\n",
      " - 8s - loss: 0.0350 - acc: 0.9885 - val_loss: 0.0870 - val_acc: 0.9802\n",
      "Epoch 28/100\n",
      " - 8s - loss: 0.0335 - acc: 0.9889 - val_loss: 0.0860 - val_acc: 0.9815\n",
      "Epoch 29/100\n",
      " - 8s - loss: 0.0322 - acc: 0.9895 - val_loss: 0.0904 - val_acc: 0.9797\n",
      "Epoch 30/100\n",
      " - 8s - loss: 0.0323 - acc: 0.9892 - val_loss: 0.0875 - val_acc: 0.9823\n",
      "Epoch 31/100\n",
      " - 8s - loss: 0.0321 - acc: 0.9894 - val_loss: 0.0879 - val_acc: 0.9814\n",
      "Epoch 32/100\n",
      " - 8s - loss: 0.0305 - acc: 0.9902 - val_loss: 0.0909 - val_acc: 0.9797\n",
      "Epoch 33/100\n",
      " - 8s - loss: 0.0286 - acc: 0.9905 - val_loss: 0.0901 - val_acc: 0.9821\n",
      "Epoch 34/100\n",
      " - 8s - loss: 0.0290 - acc: 0.9904 - val_loss: 0.0949 - val_acc: 0.9807\n",
      "Epoch 35/100\n",
      " - 8s - loss: 0.0281 - acc: 0.9906 - val_loss: 0.0965 - val_acc: 0.9794\n",
      "Epoch 36/100\n",
      " - 8s - loss: 0.0273 - acc: 0.9908 - val_loss: 0.0889 - val_acc: 0.9796\n",
      "Epoch 37/100\n",
      " - 8s - loss: 0.0267 - acc: 0.9911 - val_loss: 0.0896 - val_acc: 0.9815\n",
      "Epoch 38/100\n",
      " - 8s - loss: 0.0265 - acc: 0.9911 - val_loss: 0.1073 - val_acc: 0.9796\n",
      "Epoch 39/100\n",
      " - 8s - loss: 0.0252 - acc: 0.9916 - val_loss: 0.0912 - val_acc: 0.9811\n",
      "Epoch 40/100\n",
      " - 8s - loss: 0.0257 - acc: 0.9916 - val_loss: 0.0951 - val_acc: 0.9816\n",
      "Epoch 41/100\n",
      " - 8s - loss: 0.0240 - acc: 0.9921 - val_loss: 0.0892 - val_acc: 0.9815\n",
      "Epoch 42/100\n",
      " - 8s - loss: 0.0248 - acc: 0.9919 - val_loss: 0.1032 - val_acc: 0.9803\n",
      "Epoch 43/100\n",
      " - 8s - loss: 0.0234 - acc: 0.9919 - val_loss: 0.1047 - val_acc: 0.9814\n",
      "Epoch 44/100\n",
      " - 8s - loss: 0.0245 - acc: 0.9920 - val_loss: 0.1006 - val_acc: 0.9804\n",
      "Epoch 45/100\n",
      " - 8s - loss: 0.0217 - acc: 0.9925 - val_loss: 0.1066 - val_acc: 0.9802\n",
      "Epoch 46/100\n",
      " - 8s - loss: 0.0228 - acc: 0.9923 - val_loss: 0.1014 - val_acc: 0.9812\n",
      "Epoch 47/100\n",
      " - 8s - loss: 0.0220 - acc: 0.9925 - val_loss: 0.0941 - val_acc: 0.9818\n",
      "Epoch 48/100\n",
      " - 8s - loss: 0.0216 - acc: 0.9927 - val_loss: 0.0982 - val_acc: 0.9813\n",
      "Epoch 49/100\n",
      " - 8s - loss: 0.0205 - acc: 0.9931 - val_loss: 0.1099 - val_acc: 0.9743\n",
      "Epoch 50/100\n",
      " - 8s - loss: 0.0210 - acc: 0.9933 - val_loss: 0.1087 - val_acc: 0.9806\n",
      "Epoch 51/100\n",
      " - 8s - loss: 0.0211 - acc: 0.9925 - val_loss: 0.1094 - val_acc: 0.9802\n",
      "Epoch 52/100\n",
      " - 8s - loss: 0.0193 - acc: 0.9936 - val_loss: 0.1052 - val_acc: 0.9804\n",
      "Epoch 53/100\n",
      " - 8s - loss: 0.0197 - acc: 0.9930 - val_loss: 0.1079 - val_acc: 0.9813\n",
      "Epoch 54/100\n",
      " - 8s - loss: 0.0196 - acc: 0.9934 - val_loss: 0.1031 - val_acc: 0.9807\n",
      "Epoch 55/100\n",
      " - 8s - loss: 0.0173 - acc: 0.9939 - val_loss: 0.1069 - val_acc: 0.9819\n",
      "Epoch 56/100\n",
      " - 8s - loss: 0.0195 - acc: 0.9934 - val_loss: 0.1263 - val_acc: 0.9791\n",
      "Epoch 57/100\n",
      " - 8s - loss: 0.0186 - acc: 0.9938 - val_loss: 0.1068 - val_acc: 0.9801\n",
      "Epoch 58/100\n",
      " - 8s - loss: 0.0182 - acc: 0.9940 - val_loss: 0.1050 - val_acc: 0.9806\n",
      "Epoch 59/100\n",
      " - 8s - loss: 0.0189 - acc: 0.9935 - val_loss: 0.1120 - val_acc: 0.9812\n",
      "Epoch 60/100\n",
      " - 8s - loss: 0.0193 - acc: 0.9938 - val_loss: 0.1107 - val_acc: 0.9814\n",
      "Epoch 61/100\n",
      " - 8s - loss: 0.0164 - acc: 0.9941 - val_loss: 0.1135 - val_acc: 0.9807\n",
      "Epoch 62/100\n",
      " - 8s - loss: 0.0172 - acc: 0.9940 - val_loss: 0.1185 - val_acc: 0.9821\n",
      "Epoch 63/100\n",
      " - 8s - loss: 0.0170 - acc: 0.9939 - val_loss: 0.1145 - val_acc: 0.9806\n",
      "Epoch 64/100\n",
      " - 8s - loss: 0.0179 - acc: 0.9939 - val_loss: 0.1083 - val_acc: 0.9815\n",
      "Epoch 65/100\n",
      " - 8s - loss: 0.0154 - acc: 0.9947 - val_loss: 0.1123 - val_acc: 0.9812\n",
      "Epoch 66/100\n",
      " - 8s - loss: 0.0174 - acc: 0.9940 - val_loss: 0.1126 - val_acc: 0.9791\n",
      "Epoch 67/100\n",
      " - 8s - loss: 0.0153 - acc: 0.9948 - val_loss: 0.1164 - val_acc: 0.9798\n",
      "Epoch 68/100\n",
      " - 8s - loss: 0.0169 - acc: 0.9943 - val_loss: 0.1249 - val_acc: 0.9795\n",
      "Epoch 69/100\n",
      " - 8s - loss: 0.0160 - acc: 0.9944 - val_loss: 0.1076 - val_acc: 0.9823\n",
      "Epoch 70/100\n",
      " - 8s - loss: 0.0152 - acc: 0.9948 - val_loss: 0.1150 - val_acc: 0.9811\n",
      "Epoch 71/100\n",
      " - 8s - loss: 0.0160 - acc: 0.9947 - val_loss: 0.1196 - val_acc: 0.9822\n",
      "Epoch 72/100\n",
      " - 8s - loss: 0.0150 - acc: 0.9948 - val_loss: 0.1189 - val_acc: 0.9800\n",
      "Epoch 73/100\n",
      " - 8s - loss: 0.0154 - acc: 0.9948 - val_loss: 0.1148 - val_acc: 0.9813\n",
      "Epoch 74/100\n",
      " - 8s - loss: 0.0150 - acc: 0.9949 - val_loss: 0.1297 - val_acc: 0.9793\n",
      "Epoch 75/100\n",
      " - 8s - loss: 0.0144 - acc: 0.9952 - val_loss: 0.1197 - val_acc: 0.9819\n",
      "Epoch 76/100\n",
      " - 8s - loss: 0.0147 - acc: 0.9952 - val_loss: 0.1166 - val_acc: 0.9808\n",
      "Epoch 77/100\n",
      " - 8s - loss: 0.0153 - acc: 0.9948 - val_loss: 0.1183 - val_acc: 0.9813\n",
      "Epoch 78/100\n",
      " - 8s - loss: 0.0142 - acc: 0.9953 - val_loss: 0.1318 - val_acc: 0.9803\n",
      "Epoch 79/100\n",
      " - 8s - loss: 0.0145 - acc: 0.9952 - val_loss: 0.1246 - val_acc: 0.9811\n",
      "Epoch 80/100\n",
      " - 8s - loss: 0.0140 - acc: 0.9952 - val_loss: 0.1326 - val_acc: 0.9807\n",
      "Epoch 81/100\n",
      " - 8s - loss: 0.0138 - acc: 0.9954 - val_loss: 0.1220 - val_acc: 0.9820\n",
      "Epoch 82/100\n",
      " - 8s - loss: 0.0143 - acc: 0.9954 - val_loss: 0.1287 - val_acc: 0.9811\n",
      "Epoch 83/100\n",
      " - 8s - loss: 0.0136 - acc: 0.9951 - val_loss: 0.1242 - val_acc: 0.9823\n",
      "Epoch 84/100\n",
      " - 8s - loss: 0.0139 - acc: 0.9956 - val_loss: 0.1234 - val_acc: 0.9819\n",
      "Epoch 85/100\n",
      " - 8s - loss: 0.0142 - acc: 0.9953 - val_loss: 0.1307 - val_acc: 0.9814\n",
      "Epoch 86/100\n",
      " - 8s - loss: 0.0137 - acc: 0.9956 - val_loss: 0.1236 - val_acc: 0.9811\n",
      "Epoch 87/100\n",
      " - 8s - loss: 0.0141 - acc: 0.9951 - val_loss: 0.1280 - val_acc: 0.9820\n",
      "Epoch 88/100\n",
      " - 9s - loss: 0.0122 - acc: 0.9958 - val_loss: 0.1243 - val_acc: 0.9821\n",
      "Epoch 89/100\n",
      " - 9s - loss: 0.0128 - acc: 0.9955 - val_loss: 0.1245 - val_acc: 0.9826\n",
      "Epoch 90/100\n",
      " - 9s - loss: 0.0141 - acc: 0.9953 - val_loss: 0.1340 - val_acc: 0.9809\n",
      "Epoch 91/100\n",
      " - 9s - loss: 0.0106 - acc: 0.9964 - val_loss: 0.1251 - val_acc: 0.9812\n",
      "Epoch 92/100\n",
      " - 9s - loss: 0.0130 - acc: 0.9954 - val_loss: 0.1384 - val_acc: 0.9809\n",
      "Epoch 93/100\n",
      " - 9s - loss: 0.0134 - acc: 0.9955 - val_loss: 0.1285 - val_acc: 0.9808\n"
     ]
    },
    {
     "name": "stdout",
     "output_type": "stream",
     "text": [
      "Epoch 94/100\n",
      " - 9s - loss: 0.0136 - acc: 0.9953 - val_loss: 0.1398 - val_acc: 0.9791\n",
      "Epoch 95/100\n",
      " - 9s - loss: 0.0114 - acc: 0.9960 - val_loss: 0.1281 - val_acc: 0.9819\n",
      "Epoch 96/100\n",
      " - 9s - loss: 0.0141 - acc: 0.9953 - val_loss: 0.1252 - val_acc: 0.9810\n",
      "Epoch 97/100\n",
      " - 9s - loss: 0.0132 - acc: 0.9956 - val_loss: 0.1346 - val_acc: 0.9803\n",
      "Epoch 98/100\n",
      " - 9s - loss: 0.0107 - acc: 0.9963 - val_loss: 0.1357 - val_acc: 0.9794\n",
      "Epoch 99/100\n",
      " - 9s - loss: 0.0112 - acc: 0.9962 - val_loss: 0.1375 - val_acc: 0.9799\n",
      "Epoch 100/100\n",
      " - 9s - loss: 0.0134 - acc: 0.9955 - val_loss: 0.1369 - val_acc: 0.9815\n"
     ]
    },
    {
     "data": {
      "text/plain": [
       "<keras.callbacks.History at 0x1dfbdaecd30>"
      ]
     },
     "execution_count": 16,
     "metadata": {},
     "output_type": "execute_result"
    }
   ],
   "source": [
    "# Use the training data to fit (train) the model\n",
    "model.fit(\n",
    "    X_train,\n",
    "    y_train,\n",
    "    epochs=100,\n",
    "    shuffle=True,\n",
    "    verbose=2,\n",
    "    validation_data=(X_test, y_test)\n",
    ")"
   ]
  },
  {
   "cell_type": "markdown",
   "metadata": {},
   "source": [
    "# Save the Trained Model"
   ]
  },
  {
   "cell_type": "code",
   "execution_count": 22,
   "metadata": {},
   "outputs": [],
   "source": [
    "# Save the model\n",
    "model.save(\"ECG_DNN_trained.h5\")"
   ]
  },
  {
   "cell_type": "markdown",
   "metadata": {},
   "source": [
    "# Evaluate the Model"
   ]
  },
  {
   "cell_type": "code",
   "execution_count": 16,
   "metadata": {},
   "outputs": [
    {
     "name": "stdout",
     "output_type": "stream",
     "text": [
      "WARNING:tensorflow:From C:\\Users\\cris.bangaoil\\AppData\\Local\\conda\\conda\\envs\\ml\\lib\\site-packages\\tensorflow\\python\\ops\\math_ops.py:3066: to_int32 (from tensorflow.python.ops.math_ops) is deprecated and will be removed in a future version.\n",
      "Instructions for updating:\n",
      "Use tf.cast instead.\n"
     ]
    }
   ],
   "source": [
    "# Load the model\n",
    "from keras.models import load_model\n",
    "model = load_model(\"ECG_DNN_trained.h5\")"
   ]
  },
  {
   "cell_type": "code",
   "execution_count": 17,
   "metadata": {},
   "outputs": [
    {
     "name": "stdout",
     "output_type": "stream",
     "text": [
      "Loss: 0.1368638020454653, Accuracy: 0.9814623083252764\n"
     ]
    }
   ],
   "source": [
    "# Evaluate the model using the training data\n",
    "model_loss, model_accuracy = model.evaluate(X_test, y_test, verbose=2)\n",
    "print(f\"Loss: {model_loss}, Accuracy: {model_accuracy}\")"
   ]
  },
  {
   "cell_type": "code",
   "execution_count": 18,
   "metadata": {},
   "outputs": [
    {
     "data": {
      "text/plain": [
       "(1, 187)"
      ]
     },
     "execution_count": 18,
     "metadata": {},
     "output_type": "execute_result"
    }
   ],
   "source": [
    "# Grab just one data point to test with\n",
    "test = np.expand_dims(X_test[19245], axis=0)\n",
    "test.shape"
   ]
  },
  {
   "cell_type": "code",
   "execution_count": 69,
   "metadata": {},
   "outputs": [
    {
     "name": "stdout",
     "output_type": "stream",
     "text": [
      "Predicted class: [2]\n",
      "Predicted %: [[7.0780303e-25 7.3385065e-19 1.0000000e+00 1.2242778e-29]]\n"
     ]
    }
   ],
   "source": [
    "# Make a prediction. \n",
    "\n",
    "print(f\"Predicted class: {model.predict_classes(test)}\")\n",
    "print(f\"Predicted %: {model.predict_proba(test)}\")"
   ]
  },
  {
   "cell_type": "code",
   "execution_count": 50,
   "metadata": {},
   "outputs": [],
   "source": [
    "# Confusion Matrix\n",
    "y_true_classes =  [np.argmax(a) for a in y_test]"
   ]
  },
  {
   "cell_type": "code",
   "execution_count": 51,
   "metadata": {},
   "outputs": [
    {
     "data": {
      "text/plain": [
       "(20283, 4)"
      ]
     },
     "execution_count": 51,
     "metadata": {},
     "output_type": "execute_result"
    }
   ],
   "source": [
    "y_pred = model.predict(X_test)\n",
    "y_pred.shape"
   ]
  },
  {
   "cell_type": "code",
   "execution_count": 52,
   "metadata": {},
   "outputs": [
    {
     "data": {
      "text/plain": [
       "20283"
      ]
     },
     "execution_count": 52,
     "metadata": {},
     "output_type": "execute_result"
    }
   ],
   "source": [
    "y_pred_classes = [np.argmax(a) for a in y_pred]\n",
    "len(y_pred_classes)"
   ]
  },
  {
   "cell_type": "code",
   "execution_count": 53,
   "metadata": {},
   "outputs": [
    {
     "data": {
      "text/plain": [
       "array([[18028,    48,    37,     4],\n",
       "       [  141,   407,     6,     2],\n",
       "       [   75,     8,  1349,    16],\n",
       "       [   25,     1,    13,   123]], dtype=int64)"
      ]
     },
     "execution_count": 53,
     "metadata": {},
     "output_type": "execute_result"
    }
   ],
   "source": [
    "from sklearn.metrics import confusion_matrix\n",
    "\n",
    "a = confusion_matrix(y_true_classes, y_pred_classes, labels=[0,1,2,3])\n",
    "a"
   ]
  },
  {
   "cell_type": "code",
   "execution_count": 68,
   "metadata": {},
   "outputs": [
    {
     "data": {
      "text/plain": [
       "<matplotlib.image.AxesImage at 0x2380884e2b0>"
      ]
     },
     "execution_count": 68,
     "metadata": {},
     "output_type": "execute_result"
    },
    {
     "data": {
      "image/png": "[encoded data removed]",
      "text/plain": [
       "<Figure size 288x288 with 1 Axes>"
      ]
     },
     "metadata": {
      "needs_background": "light"
     },
     "output_type": "display_data"
    }
   ],
   "source": [
    "%matplotlib inline\n",
    "from matplotlib.pyplot import matshow\n",
    "\n",
    "matshow(a)"
   ]
  },
  {
   "cell_type": "code",
   "execution_count": 57,
   "metadata": {},
   "outputs": [],
   "source": [
    "from matplotlib import pyplot\n",
    "pyplot.show()"
   ]
  }
 ],
 "metadata": {
  "anaconda-cloud": {},
  "kernelspec": {
   "display_name": "Python 3 - ML",
   "language": "python",
   "name": "ml"
  },
  "language_info": {
   "codemirror_mode": {
    "name": "ipython",
    "version": 3
   },
   "file_extension": ".py",
   "mimetype": "text/x-python",
   "name": "python",
   "nbconvert_exporter": "python",
   "pygments_lexer": "ipython3",
   "version": "3.6.8"
  },
  "varInspector": {
   "cols": {
    "lenName": 16,
    "lenType": 16,
    "lenVar": 40
   },
   "kernels_config": {
    "python": {
     "delete_cmd_postfix": "",
     "delete_cmd_prefix": "del ",
     "library": "var_list.py",
     "varRefreshCmd": "print(var_dic_list())"
    },
    "r": {
     "delete_cmd_postfix": ") ",
     "delete_cmd_prefix": "rm(",
     "library": "var_list.r",
     "varRefreshCmd": "cat(var_dic_list()) "
    }
   },
   "types_to_exclude": [
    "module",
    "function",
    "builtin_function_or_method",
    "instance",
    "_Feature"
   ],
   "window_display": false
  }
 },
 "nbformat": 4,
 "nbformat_minor": 2
}
