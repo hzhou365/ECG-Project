{
 "cells": [
  {
   "cell_type": "code",
   "execution_count": 1,
   "metadata": {},
   "outputs": [],
   "source": [
    "#####################################\n",
    "### Arrhythmia Dataset\n",
    "### Number of Samples: 109446\n",
    "### Number of Categories: 5\n",
    "### Sampling Frequency: 125Hz\n",
    "### Data Source: Physionet's MIT-BIH Arrhythmia Dataset\n",
    "### Classes: ['N': 0, 'S': 1, 'V': 2, 'F': 3, 'Q': 4]\n",
    "#####################################"
   ]
  },
  {
   "cell_type": "code",
   "execution_count": 2,
   "metadata": {},
   "outputs": [],
   "source": [
    "import os\n",
    "path = \"../Images\"\n",
    "if not os.path.exists(\"../Images\"):\n",
    "    os.makedirs(path)"
   ]
  },
  {
   "cell_type": "code",
   "execution_count": 3,
   "metadata": {},
   "outputs": [],
   "source": [
    "from sklearn import tree\n",
    "import pandas as pd\n",
    "import os"
   ]
  },
  {
   "cell_type": "code",
   "execution_count": 4,
   "metadata": {},
   "outputs": [
    {
     "name": "stdout",
     "output_type": "stream",
     "text": [
      "        0         1         2         3         4         5         6    \\\n",
      "0  0.977941  0.926471  0.681373  0.245098  0.154412  0.191176  0.151961   \n",
      "1  0.960114  0.863248  0.461538  0.196581  0.094017  0.125356  0.099715   \n",
      "2  1.000000  0.659459  0.186486  0.070270  0.070270  0.059459  0.056757   \n",
      "3  0.925414  0.665746  0.541436  0.276243  0.196133  0.077348  0.071823   \n",
      "4  0.967136  1.000000  0.830986  0.586854  0.356808  0.248826  0.145540   \n",
      "\n",
      "        7         8         9   ...   178  179  180  181  182  183  184  185  \\\n",
      "0  0.085784  0.058824  0.049020 ...   0.0  0.0  0.0  0.0  0.0  0.0  0.0  0.0   \n",
      "1  0.088319  0.074074  0.082621 ...   0.0  0.0  0.0  0.0  0.0  0.0  0.0  0.0   \n",
      "2  0.043243  0.054054  0.045946 ...   0.0  0.0  0.0  0.0  0.0  0.0  0.0  0.0   \n",
      "3  0.060773  0.066298  0.058011 ...   0.0  0.0  0.0  0.0  0.0  0.0  0.0  0.0   \n",
      "4  0.089202  0.117371  0.150235 ...   0.0  0.0  0.0  0.0  0.0  0.0  0.0  0.0   \n",
      "\n",
      "   186  187  \n",
      "0  0.0  0.0  \n",
      "1  0.0  0.0  \n",
      "2  0.0  0.0  \n",
      "3  0.0  0.0  \n",
      "4  0.0  0.0  \n",
      "\n",
      "[5 rows x 188 columns]\n"
     ]
    }
   ],
   "source": [
    "df1 = pd.read_csv(os.path.join(\"Resources\",\"mitbih_train.csv\"), header=None)\n",
    "df2 = pd.read_csv(os.path.join(\"Resources\",\"mitbih_test.csv\"), header=None)\n",
    "df = pd.concat([df1, df2], ignore_index=True)\n",
    "#df.head()\n",
    "print(df.head(5))"
   ]
  },
  {
   "cell_type": "code",
   "execution_count": 5,
   "metadata": {},
   "outputs": [
    {
     "name": "stdout",
     "output_type": "stream",
     "text": [
      "(109446,)\n"
     ]
    }
   ],
   "source": [
    "target = df[187] \n",
    "target_names = [\"0\", \"1\", \"2\", \"3\", \"4\"]\n",
    "print(target.shape)"
   ]
  },
  {
   "cell_type": "code",
   "execution_count": 6,
   "metadata": {},
   "outputs": [
    {
     "name": "stdout",
     "output_type": "stream",
     "text": [
      "        0         1         2         3         4         5         6    \\\n",
      "0  0.977941  0.926471  0.681373  0.245098  0.154412  0.191176  0.151961   \n",
      "1  0.960114  0.863248  0.461538  0.196581  0.094017  0.125356  0.099715   \n",
      "2  1.000000  0.659459  0.186486  0.070270  0.070270  0.059459  0.056757   \n",
      "3  0.925414  0.665746  0.541436  0.276243  0.196133  0.077348  0.071823   \n",
      "4  0.967136  1.000000  0.830986  0.586854  0.356808  0.248826  0.145540   \n",
      "\n",
      "        7         8         9   ...   177  178  179  180  181  182  183  184  \\\n",
      "0  0.085784  0.058824  0.049020 ...   0.0  0.0  0.0  0.0  0.0  0.0  0.0  0.0   \n",
      "1  0.088319  0.074074  0.082621 ...   0.0  0.0  0.0  0.0  0.0  0.0  0.0  0.0   \n",
      "2  0.043243  0.054054  0.045946 ...   0.0  0.0  0.0  0.0  0.0  0.0  0.0  0.0   \n",
      "3  0.060773  0.066298  0.058011 ...   0.0  0.0  0.0  0.0  0.0  0.0  0.0  0.0   \n",
      "4  0.089202  0.117371  0.150235 ...   0.0  0.0  0.0  0.0  0.0  0.0  0.0  0.0   \n",
      "\n",
      "   185  186  \n",
      "0  0.0  0.0  \n",
      "1  0.0  0.0  \n",
      "2  0.0  0.0  \n",
      "3  0.0  0.0  \n",
      "4  0.0  0.0  \n",
      "\n",
      "[5 rows x 187 columns]\n"
     ]
    }
   ],
   "source": [
    "data = df.drop(187, axis=1)\n",
    "feature_names = data.columns\n",
    "print(data.head(5))"
   ]
  },
  {
   "cell_type": "code",
   "execution_count": 7,
   "metadata": {},
   "outputs": [],
   "source": [
    "from sklearn.model_selection import train_test_split\n",
    "X_train, X_test, y_train, y_test = train_test_split(data, target, random_state=42)"
   ]
  },
  {
   "cell_type": "code",
   "execution_count": 8,
   "metadata": {},
   "outputs": [
    {
     "data": {
      "text/plain": [
       "0.9559973686134055"
      ]
     },
     "execution_count": 8,
     "metadata": {},
     "output_type": "execute_result"
    }
   ],
   "source": [
    "clf = tree.DecisionTreeClassifier()\n",
    "clf = clf.fit(X_train, y_train)\n",
    "clf.score(X_test, y_test)"
   ]
  },
  {
   "cell_type": "code",
   "execution_count": 9,
   "metadata": {},
   "outputs": [
    {
     "data": {
      "text/plain": [
       "0.9756962210364739"
      ]
     },
     "execution_count": 9,
     "metadata": {},
     "output_type": "execute_result"
    }
   ],
   "source": [
    "from sklearn.ensemble import RandomForestClassifier\n",
    "rf = RandomForestClassifier(n_estimators=200)\n",
    "rf = rf.fit(X_train, y_train)\n",
    "rf.score(X_test, y_test)"
   ]
  },
  {
   "cell_type": "code",
   "execution_count": 10,
   "metadata": {},
   "outputs": [
    {
     "data": {
      "text/plain": [
       "[(0.043110225502004294, 4),\n",
       " (0.040510401083831325, 3),\n",
       " (0.039708686438722246, 5),\n",
       " (0.03089415050436317, 1),\n",
       " (0.030529995045318045, 6),\n",
       " (0.029536211575444442, 2),\n",
       " (0.02031116105983983, 0),\n",
       " (0.020104376213820795, 7),\n",
       " (0.020031254438254032, 10),\n",
       " (0.0187627764914334, 11),\n",
       " (0.017989875682039656, 12),\n",
       " (0.017613812600291653, 8),\n",
       " (0.01735715798367654, 36),\n",
       " (0.0169985300070974, 9),\n",
       " (0.01676011159876075, 35),\n",
       " (0.015175283775979658, 37),\n",
       " (0.014632272299425491, 13),\n",
       " (0.014460059682528696, 16),\n",
       " (0.01297495628969309, 34),\n",
       " (0.012546891795249798, 24),\n",
       " (0.012296856253414574, 23),\n",
       " (0.01225578948123112, 25),\n",
       " (0.011939378615566688, 14),\n",
       " (0.011554717086925516, 22),\n",
       " (0.010852334550626863, 21),\n",
       " (0.010634908229240105, 38),\n",
       " (0.010388093337246248, 33),\n",
       " (0.01030456734118941, 45),\n",
       " (0.010249445319911914, 18),\n",
       " (0.010061292858376439, 17),\n",
       " (0.010014357420833458, 15),\n",
       " (0.009864423536674681, 44),\n",
       " (0.009770169112608527, 42),\n",
       " (0.00944452068640495, 27),\n",
       " (0.009431811467130614, 43),\n",
       " (0.00919349141059419, 101),\n",
       " (0.00918367033596845, 31),\n",
       " (0.009156771451661834, 46),\n",
       " (0.009001424979659313, 20),\n",
       " (0.008889172229395576, 48),\n",
       " (0.008813387396144545, 30),\n",
       " (0.008725318523470355, 26),\n",
       " (0.008658485595200542, 40),\n",
       " (0.008651642707873242, 47),\n",
       " (0.008090716862561173, 41),\n",
       " (0.008002083800622464, 32),\n",
       " (0.007954264050811738, 28),\n",
       " (0.007871924305372008, 29),\n",
       " (0.007746762757087194, 39),\n",
       " (0.007739685244962494, 102),\n",
       " (0.007614805480311147, 103),\n",
       " (0.0069671691454599215, 19),\n",
       " (0.006291924225361295, 97),\n",
       " (0.006055819996651239, 50),\n",
       " (0.005250681170655897, 99),\n",
       " (0.005128070407670449, 49),\n",
       " (0.004872602348487885, 100),\n",
       " (0.004862028952946721, 98),\n",
       " (0.004639607723124502, 51),\n",
       " (0.0045679844146347855, 104),\n",
       " (0.004332162461608795, 59),\n",
       " (0.004287215798277839, 52),\n",
       " (0.004272160281184994, 56),\n",
       " (0.004201858124850997, 96),\n",
       " (0.004094731643554953, 58),\n",
       " (0.0036738879474465936, 53),\n",
       " (0.0036113353945809046, 95),\n",
       " (0.0035831683549414762, 87),\n",
       " (0.00342416853328512, 61),\n",
       " (0.003350336210692662, 85),\n",
       " (0.0033426317255302544, 57),\n",
       " (0.003216926034780261, 54),\n",
       " (0.0032029122275521937, 60),\n",
       " (0.003128074717599935, 86),\n",
       " (0.0030919060121798103, 88),\n",
       " (0.00308766268780373, 55),\n",
       " (0.003036634753630502, 63),\n",
       " (0.002865352205668505, 64),\n",
       " (0.0028323796201598773, 105),\n",
       " (0.0027878448355156617, 62),\n",
       " (0.002782492155715608, 94),\n",
       " (0.0027447852349425537, 84),\n",
       " (0.0027266076323071214, 90),\n",
       " (0.0026878683784918186, 73),\n",
       " (0.002679722512248473, 72),\n",
       " (0.0026602589415034394, 106),\n",
       " (0.002653644084058105, 66),\n",
       " (0.0025973884452620832, 92),\n",
       " (0.0025658786054257787, 70),\n",
       " (0.002512854725466743, 68),\n",
       " (0.0025121754421955434, 74),\n",
       " (0.002506068247644064, 78),\n",
       " (0.0024352758071296606, 65),\n",
       " (0.002430573312135014, 89),\n",
       " (0.0023851318236487807, 81),\n",
       " (0.002375855895591768, 71),\n",
       " (0.0023724129537706844, 91),\n",
       " (0.00234441117850768, 67),\n",
       " (0.0023166915676612852, 80),\n",
       " (0.0023077781107666644, 82),\n",
       " (0.0023067393452119726, 83),\n",
       " (0.0022122120807548337, 77),\n",
       " (0.002210768908614319, 76),\n",
       " (0.002193429479930718, 93),\n",
       " (0.0021875633328893975, 128),\n",
       " (0.002158917848454187, 79),\n",
       " (0.00211334003239069, 75),\n",
       " (0.002111813352165105, 131),\n",
       " (0.002088484244833139, 129),\n",
       " (0.0020860207711592637, 110),\n",
       " (0.00207103467612047, 69),\n",
       " (0.0020548454859974515, 112),\n",
       " (0.0019259446735712376, 107),\n",
       " (0.0018886119677619445, 109),\n",
       " (0.0018856015954792072, 111),\n",
       " (0.0017789465698193725, 127),\n",
       " (0.0016343877566908258, 132),\n",
       " (0.001621015558225862, 133),\n",
       " (0.0016043292962389737, 113),\n",
       " (0.0015944695277707427, 122),\n",
       " (0.0015693387361431987, 125),\n",
       " (0.001554537659820669, 108),\n",
       " (0.0015532094091438068, 124),\n",
       " (0.0015460296428728793, 116),\n",
       " (0.0015302869675933382, 115),\n",
       " (0.0015148611122517447, 119),\n",
       " (0.0015141390737705416, 117),\n",
       " (0.001485389461739857, 114),\n",
       " (0.0014461713393520404, 130),\n",
       " (0.0013972046882034476, 126),\n",
       " (0.0013194353312721615, 135),\n",
       " (0.001269367639834994, 136),\n",
       " (0.0012499825818580034, 123),\n",
       " (0.001244027619834689, 121),\n",
       " (0.0011905989133726125, 142),\n",
       " (0.0011797386073858535, 137),\n",
       " (0.0011767952085954838, 120),\n",
       " (0.0011467443292935272, 138),\n",
       " (0.0010964997594284343, 118),\n",
       " (0.001086156429364922, 134),\n",
       " (0.0008642325447118196, 140),\n",
       " (0.0008387736172284146, 139),\n",
       " (0.0008227854069574461, 148),\n",
       " (0.000758193958573553, 141),\n",
       " (0.0007089119222388733, 149),\n",
       " (0.0006967802130165153, 144),\n",
       " (0.0006692153960729913, 151),\n",
       " (0.0005882935707616911, 146),\n",
       " (0.0005868705512444401, 147),\n",
       " (0.0005674079809921084, 143),\n",
       " (0.0005526787342236518, 145),\n",
       " (0.0005227567048041618, 157),\n",
       " (0.0004960827556665283, 186),\n",
       " (0.0004774490821785468, 162),\n",
       " (0.0004710805348447266, 152),\n",
       " (0.0004680396070310192, 155),\n",
       " (0.00046364248821680146, 180),\n",
       " (0.0004341487388565452, 184),\n",
       " (0.00042923112632691136, 156),\n",
       " (0.0004290128219808301, 181),\n",
       " (0.00042218494201372807, 154),\n",
       " (0.0004147971086897967, 179),\n",
       " (0.0004112935098292382, 158),\n",
       " (0.00038760631860758143, 178),\n",
       " (0.00038549169810352915, 182),\n",
       " (0.0003703620707709467, 159),\n",
       " (0.00036774016625461833, 150),\n",
       " (0.00036605138103559446, 183),\n",
       " (0.0003548386349424903, 164),\n",
       " (0.00035399177175093394, 177),\n",
       " (0.00035089831144566905, 163),\n",
       " (0.00034972649817100506, 185),\n",
       " (0.00034762322738631385, 153),\n",
       " (0.0003434658382585274, 160),\n",
       " (0.00032927944493415633, 175),\n",
       " (0.00030060264599126565, 165),\n",
       " (0.00028345080056062726, 161),\n",
       " (0.00027592815283469075, 168),\n",
       " (0.0002548391721235555, 170),\n",
       " (0.00024722467028014507, 172),\n",
       " (0.00024202966648419126, 169),\n",
       " (0.00023290900303062686, 176),\n",
       " (0.00021532396253248323, 174),\n",
       " (0.00019959185752701938, 171),\n",
       " (0.00018741126881660126, 173),\n",
       " (0.0001720418422318519, 167),\n",
       " (0.00016714175709097722, 166)]"
      ]
     },
     "execution_count": 10,
     "metadata": {},
     "output_type": "execute_result"
    }
   ],
   "source": [
    "sorted(zip(rf.feature_importances_, feature_names), reverse=True)"
   ]
  },
  {
   "cell_type": "code",
   "execution_count": 13,
   "metadata": {},
   "outputs": [],
   "source": [
    "### Predict\n",
    "y_predict = rf.predict(X_test)"
   ]
  },
  {
   "cell_type": "code",
   "execution_count": 15,
   "metadata": {},
   "outputs": [
    {
     "data": {
      "text/plain": [
       "array([[22688,     6,    23,     1,     2],\n",
       "       [  241,   424,     8,     0,     2],\n",
       "       [  183,     0,  1567,     8,     2],\n",
       "       [   66,     0,    10,   126,     0],\n",
       "       [  106,     0,     7,     0,  1892]], dtype=int64)"
      ]
     },
     "execution_count": 15,
     "metadata": {},
     "output_type": "execute_result"
    }
   ],
   "source": [
    "### Confustion Matrix\n",
    "\n",
    "from sklearn.metrics import confusion_matrix\n",
    "\n",
    "a = confusion_matrix(y_test, y_predict, labels=[0,1,2,3,4])\n",
    "a"
   ]
  },
  {
   "cell_type": "code",
   "execution_count": 16,
   "metadata": {},
   "outputs": [
    {
     "data": {
      "text/plain": [
       "<matplotlib.image.AxesImage at 0x1d33a7dd4e0>"
      ]
     },
     "execution_count": 16,
     "metadata": {},
     "output_type": "execute_result"
    },
    {
     "data": {
      "image/png": "[encoded data removed]",
      "text/plain": [
       "<Figure size 288x288 with 1 Axes>"
      ]
     },
     "metadata": {},
     "output_type": "display_data"
    }
   ],
   "source": [
    "%matplotlib inline\n",
    "from matplotlib.pyplot import matshow\n",
    "\n",
    "matshow(a)"
   ]
  },
  {
   "cell_type": "code",
   "execution_count": null,
   "metadata": {},
   "outputs": [],
   "source": [
    "xx = list(range(0,187))\n",
    "import matplotlib.pyplot as plt"
   ]
  },
  {
   "cell_type": "code",
   "execution_count": null,
   "metadata": {},
   "outputs": [],
   "source": [
    "my_data_0__N = data.iloc[72281]\n",
    "plt.title(\"Type: N\")\n",
    "plt.plot(xx, my_data_0__N)\n",
    "\n",
    "### Save Figure\n",
    "plt.savefig(\"../Images/Type-N.png\")"
   ]
  },
  {
   "cell_type": "code",
   "execution_count": null,
   "metadata": {},
   "outputs": [],
   "source": [
    "my_data_1__S = data.iloc[72515]\n",
    "plt.title(\"Type: S\")\n",
    "plt.plot(xx, my_data_1__S)\n",
    "\n",
    "### Save Figure\n",
    "plt.savefig(\"Tpye-S.png\")"
   ]
  },
  {
   "cell_type": "code",
   "execution_count": null,
   "metadata": {},
   "outputs": [],
   "source": [
    "my_data_2__V = data.iloc[74958]\n",
    "plt.title(\"Type: V\")\n",
    "plt.plot(xx, my_data_2__V)\n",
    "\n",
    "### Save Figure\n",
    "plt.savefig(\"Type-V.png\")"
   ]
  },
  {
   "cell_type": "code",
   "execution_count": null,
   "metadata": {},
   "outputs": [],
   "source": [
    "my_data_3__F = data.iloc[80999]\n",
    "plt.title(\"Type: F\")\n",
    "plt.plot(xx, my_data_3__F)\n",
    "\n",
    "### Save Figure\n",
    "plt.savefig(\"Type-F.png\")"
   ]
  },
  {
   "cell_type": "code",
   "execution_count": null,
   "metadata": {},
   "outputs": [],
   "source": [
    "my_data_4__Q = data.iloc[87549]\n",
    "plt.title(\"Type: Q\")\n",
    "plt.plot(xx, my_data_4__Q)\n",
    "\n",
    "### Save Figure\n",
    "plt.savefig(\"Type-Q.png\")"
   ]
  }
 ],
 "metadata": {
  "kernelspec": {
   "display_name": "Python 3",
   "language": "python",
   "name": "python3"
  },
  "language_info": {
   "codemirror_mode": {
    "name": "ipython",
    "version": 3
   },
   "file_extension": ".py",
   "mimetype": "text/x-python",
   "name": "python",
   "nbconvert_exporter": "python",
   "pygments_lexer": "ipython3",
   "version": "3.6.5"
  },
  "varInspector": {
   "cols": {
    "lenName": 16,
    "lenType": 16,
    "lenVar": 40
   },
   "kernels_config": {
    "python": {
     "delete_cmd_postfix": "",
     "delete_cmd_prefix": "del ",
     "library": "var_list.py",
     "varRefreshCmd": "print(var_dic_list())"
    },
    "r": {
     "delete_cmd_postfix": ") ",
     "delete_cmd_prefix": "rm(",
     "library": "var_list.r",
     "varRefreshCmd": "cat(var_dic_list()) "
    }
   },
   "types_to_exclude": [
    "module",
    "function",
    "builtin_function_or_method",
    "instance",
    "_Feature"
   ],
   "window_display": false
  }
 },
 "nbformat": 4,
 "nbformat_minor": 2
}
