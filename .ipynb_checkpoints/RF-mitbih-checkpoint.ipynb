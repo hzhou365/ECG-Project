{
 "cells": [
  {
   "cell_type": "code",
   "execution_count": 1,
   "metadata": {},
   "outputs": [],
   "source": [
    "#####################################\n",
    "### Arrhythmia Dataset\n",
    "### Number of Samples: 109446\n",
    "### Number of Categories: 5\n",
    "### Sampling Frequency: 125Hz\n",
    "### Data Source: Physionet's MIT-BIH Arrhythmia Dataset\n",
    "### Classes: ['N': 0, 'S': 1, 'V': 2, 'F': 3, 'Q': 4]\n",
    "#####################################"
   ]
  },
  {
   "cell_type": "code",
   "execution_count": 2,
   "metadata": {},
   "outputs": [],
   "source": [
    "import os\n",
    "path = \"../Images\"\n",
    "if not os.path.exists(\"../Images\"):\n",
    "    os.makedirs(path)"
   ]
  },
  {
   "cell_type": "code",
   "execution_count": 3,
   "metadata": {},
   "outputs": [],
   "source": [
    "from sklearn import tree\n",
    "import pandas as pd\n",
    "import os"
   ]
  },
  {
   "cell_type": "code",
   "execution_count": 2,
   "metadata": {},
   "outputs": [
    {
     "name": "stdout",
     "output_type": "stream",
     "text": [
      "        0         1         2         3         4         5         6    \\\n",
      "0  0.977941  0.926471  0.681373  0.245098  0.154412  0.191176  0.151961   \n",
      "1  0.960114  0.863248  0.461538  0.196581  0.094017  0.125356  0.099715   \n",
      "2  1.000000  0.659459  0.186486  0.070270  0.070270  0.059459  0.056757   \n",
      "3  0.925414  0.665746  0.541436  0.276243  0.196133  0.077348  0.071823   \n",
      "4  0.967136  1.000000  0.830986  0.586854  0.356808  0.248826  0.145540   \n",
      "\n",
      "        7         8         9   ...   178  179  180  181  182  183  184  185  \\\n",
      "0  0.085784  0.058824  0.049020 ...   0.0  0.0  0.0  0.0  0.0  0.0  0.0  0.0   \n",
      "1  0.088319  0.074074  0.082621 ...   0.0  0.0  0.0  0.0  0.0  0.0  0.0  0.0   \n",
      "2  0.043243  0.054054  0.045946 ...   0.0  0.0  0.0  0.0  0.0  0.0  0.0  0.0   \n",
      "3  0.060773  0.066298  0.058011 ...   0.0  0.0  0.0  0.0  0.0  0.0  0.0  0.0   \n",
      "4  0.089202  0.117371  0.150235 ...   0.0  0.0  0.0  0.0  0.0  0.0  0.0  0.0   \n",
      "\n",
      "   186  187  \n",
      "0  0.0  0.0  \n",
      "1  0.0  0.0  \n",
      "2  0.0  0.0  \n",
      "3  0.0  0.0  \n",
      "4  0.0  0.0  \n",
      "\n",
      "[5 rows x 188 columns]\n"
     ]
    }
   ],
   "source": [
    "df = pd.read_csv(os.path.join(\"\",\"mitbih_train.csv\"), header=None)\n",
    "#df.head()\n",
    "print(df.head(5))"
   ]
  },
  {
   "cell_type": "code",
   "execution_count": 3,
   "metadata": {},
   "outputs": [
    {
     "name": "stdout",
     "output_type": "stream",
     "text": [
      "0        0.0\n",
      "1        0.0\n",
      "2        0.0\n",
      "3        0.0\n",
      "4        0.0\n",
      "5        0.0\n",
      "6        0.0\n",
      "7        0.0\n",
      "8        0.0\n",
      "9        0.0\n",
      "10       0.0\n",
      "11       0.0\n",
      "12       0.0\n",
      "13       0.0\n",
      "14       0.0\n",
      "15       0.0\n",
      "16       0.0\n",
      "17       0.0\n",
      "18       0.0\n",
      "19       0.0\n",
      "20       0.0\n",
      "21       0.0\n",
      "22       0.0\n",
      "23       0.0\n",
      "24       0.0\n",
      "25       0.0\n",
      "26       0.0\n",
      "27       0.0\n",
      "28       0.0\n",
      "29       0.0\n",
      "        ... \n",
      "87524    4.0\n",
      "87525    4.0\n",
      "87526    4.0\n",
      "87527    4.0\n",
      "87528    4.0\n",
      "87529    4.0\n",
      "87530    4.0\n",
      "87531    4.0\n",
      "87532    4.0\n",
      "87533    4.0\n",
      "87534    4.0\n",
      "87535    4.0\n",
      "87536    4.0\n",
      "87537    4.0\n",
      "87538    4.0\n",
      "87539    4.0\n",
      "87540    4.0\n",
      "87541    4.0\n",
      "87542    4.0\n",
      "87543    4.0\n",
      "87544    4.0\n",
      "87545    4.0\n",
      "87546    4.0\n",
      "87547    4.0\n",
      "87548    4.0\n",
      "87549    4.0\n",
      "87550    4.0\n",
      "87551    4.0\n",
      "87552    4.0\n",
      "87553    4.0\n",
      "Name: 187, Length: 87554, dtype: float64\n"
     ]
    }
   ],
   "source": [
    "target = df[187] \n",
    "target_names = [\"0\", \"1\", \"2\", \"3\", \"4\"]\n",
    "print(target)"
   ]
  },
  {
   "cell_type": "code",
   "execution_count": 4,
   "metadata": {},
   "outputs": [
    {
     "name": "stdout",
     "output_type": "stream",
     "text": [
      "        0         1         2         3         4         5         6    \\\n",
      "0  0.977941  0.926471  0.681373  0.245098  0.154412  0.191176  0.151961   \n",
      "1  0.960114  0.863248  0.461538  0.196581  0.094017  0.125356  0.099715   \n",
      "2  1.000000  0.659459  0.186486  0.070270  0.070270  0.059459  0.056757   \n",
      "3  0.925414  0.665746  0.541436  0.276243  0.196133  0.077348  0.071823   \n",
      "4  0.967136  1.000000  0.830986  0.586854  0.356808  0.248826  0.145540   \n",
      "\n",
      "        7         8         9   ...   177  178  179  180  181  182  183  184  \\\n",
      "0  0.085784  0.058824  0.049020 ...   0.0  0.0  0.0  0.0  0.0  0.0  0.0  0.0   \n",
      "1  0.088319  0.074074  0.082621 ...   0.0  0.0  0.0  0.0  0.0  0.0  0.0  0.0   \n",
      "2  0.043243  0.054054  0.045946 ...   0.0  0.0  0.0  0.0  0.0  0.0  0.0  0.0   \n",
      "3  0.060773  0.066298  0.058011 ...   0.0  0.0  0.0  0.0  0.0  0.0  0.0  0.0   \n",
      "4  0.089202  0.117371  0.150235 ...   0.0  0.0  0.0  0.0  0.0  0.0  0.0  0.0   \n",
      "\n",
      "   185  186  \n",
      "0  0.0  0.0  \n",
      "1  0.0  0.0  \n",
      "2  0.0  0.0  \n",
      "3  0.0  0.0  \n",
      "4  0.0  0.0  \n",
      "\n",
      "[5 rows x 187 columns]\n"
     ]
    }
   ],
   "source": [
    "data = df.drop(187, axis=1)\n",
    "feature_names = data.columns\n",
    "print(data.head(5))"
   ]
  },
  {
   "cell_type": "code",
   "execution_count": 5,
   "metadata": {},
   "outputs": [],
   "source": [
    "from sklearn.model_selection import train_test_split\n",
    "X_train, X_test, y_train, y_test = train_test_split(data, target, random_state=42)"
   ]
  },
  {
   "cell_type": "code",
   "execution_count": 6,
   "metadata": {},
   "outputs": [
    {
     "data": {
      "text/plain": [
       "0.9548631732833843"
      ]
     },
     "execution_count": 6,
     "metadata": {},
     "output_type": "execute_result"
    }
   ],
   "source": [
    "clf = tree.DecisionTreeClassifier()\n",
    "clf = clf.fit(X_train, y_train)\n",
    "clf.score(X_test, y_test)"
   ]
  },
  {
   "cell_type": "code",
   "execution_count": 7,
   "metadata": {},
   "outputs": [
    {
     "data": {
      "text/plain": [
       "0.9754671296084791"
      ]
     },
     "execution_count": 7,
     "metadata": {},
     "output_type": "execute_result"
    }
   ],
   "source": [
    "from sklearn.ensemble import RandomForestClassifier\n",
    "rf = RandomForestClassifier(n_estimators=200)\n",
    "rf = rf.fit(X_train, y_train)\n",
    "rf.score(X_test, y_test)"
   ]
  },
  {
   "cell_type": "code",
   "execution_count": 8,
   "metadata": {},
   "outputs": [
    {
     "data": {
      "text/plain": [
       "[(0.03942391442165948, 4),\n",
       " (0.03890618327875786, 3),\n",
       " (0.038852818971157645, 5),\n",
       " (0.03725577913877892, 6),\n",
       " (0.03162039709032499, 2),\n",
       " (0.029334432824001864, 1),\n",
       " (0.021956766029786724, 7),\n",
       " (0.0218363152519724, 10),\n",
       " (0.021267632081934336, 0),\n",
       " (0.018832268465293872, 36),\n",
       " (0.018252696827585506, 8),\n",
       " (0.017488765515965322, 11),\n",
       " (0.01634472223982504, 13),\n",
       " (0.01627946720855188, 9),\n",
       " (0.015868575085647554, 12),\n",
       " (0.014654554471959267, 37),\n",
       " (0.014178745539365269, 23),\n",
       " (0.013873362479108562, 35),\n",
       " (0.013592822773340552, 14),\n",
       " (0.013280754418387941, 34),\n",
       " (0.012498341161054844, 46),\n",
       " (0.01233284433545732, 45),\n",
       " (0.012131055394421135, 38),\n",
       " (0.01197420523815051, 25),\n",
       " (0.011584237122006048, 22),\n",
       " (0.011524132345222638, 24),\n",
       " (0.010609833626582544, 16),\n",
       " (0.01020976141641, 27),\n",
       " (0.01018581458648832, 26),\n",
       " (0.010095957838968314, 39),\n",
       " (0.010029590157075193, 15),\n",
       " (0.009885309366149841, 44),\n",
       " (0.0098297086668917, 21),\n",
       " (0.009803365357025546, 17),\n",
       " (0.009367494302442504, 33),\n",
       " (0.009359057206057635, 43),\n",
       " (0.009249017784419491, 19),\n",
       " (0.009085988727410444, 102),\n",
       " (0.009068872749773756, 32),\n",
       " (0.00905533507860254, 31),\n",
       " (0.008623774116681766, 18),\n",
       " (0.008455068016282732, 40),\n",
       " (0.008451995402289492, 20),\n",
       " (0.008329934108320766, 48),\n",
       " (0.00814534372307291, 47),\n",
       " (0.008141678264869114, 41),\n",
       " (0.007935209858945831, 30),\n",
       " (0.007907651408412701, 42),\n",
       " (0.007842835290936616, 28),\n",
       " (0.007609952243451674, 29),\n",
       " (0.006846266944815195, 101),\n",
       " (0.0058789420290048374, 98),\n",
       " (0.00535649242732186, 99),\n",
       " (0.005234847681019641, 103),\n",
       " (0.0050599785319746715, 100),\n",
       " (0.00501441325080618, 104),\n",
       " (0.0045172874904297385, 97),\n",
       " (0.004415066256815922, 53),\n",
       " (0.004318000789181055, 49),\n",
       " (0.004239778520106597, 54),\n",
       " (0.004119413637627595, 51),\n",
       " (0.004091645495789326, 58),\n",
       " (0.003927428898413223, 50),\n",
       " (0.003910470002758638, 96),\n",
       " (0.0037966501704511137, 95),\n",
       " (0.0036654146571689413, 59),\n",
       " (0.0036551164919318645, 57),\n",
       " (0.0036074616371747264, 87),\n",
       " (0.0035596061047025525, 105),\n",
       " (0.00355699541829007, 86),\n",
       " (0.0035510619936685913, 52),\n",
       " (0.003464954710279786, 56),\n",
       " (0.00338763823291848, 61),\n",
       " (0.003148672022302907, 88),\n",
       " (0.003148472515328871, 63),\n",
       " (0.0031352022851121176, 55),\n",
       " (0.0031056713359423403, 85),\n",
       " (0.003081651699173194, 60),\n",
       " (0.002896198023577758, 94),\n",
       " (0.002820187851403215, 73),\n",
       " (0.0027788189251119993, 62),\n",
       " (0.002770002693485426, 93),\n",
       " (0.002753163381498974, 89),\n",
       " (0.00267772477951784, 67),\n",
       " (0.002663947350822494, 65),\n",
       " (0.0026458494297353884, 66),\n",
       " (0.0026359924967490605, 71),\n",
       " (0.002587864037946695, 77),\n",
       " (0.002535485104350055, 72),\n",
       " (0.002533094197891669, 90),\n",
       " (0.0025295402108887854, 64),\n",
       " (0.002514329541205042, 83),\n",
       " (0.002467856501787383, 84),\n",
       " (0.0024459668514995557, 79),\n",
       " (0.0024330946365426404, 81),\n",
       " (0.002423127578731144, 75),\n",
       " (0.002400480564633386, 68),\n",
       " (0.002386602496970107, 91),\n",
       " (0.0023718868012001164, 76),\n",
       " (0.0023416658074347247, 70),\n",
       " (0.0023307528853877208, 80),\n",
       " (0.002284756478493047, 69),\n",
       " (0.002268628891164654, 74),\n",
       " (0.0022330249932906356, 82),\n",
       " (0.002145815476100871, 78),\n",
       " (0.002069976857729699, 92),\n",
       " (0.002004835683051047, 106),\n",
       " (0.0019312532082772175, 131),\n",
       " (0.0019212644612160825, 108),\n",
       " (0.0019183857088838293, 109),\n",
       " (0.0018880661468286223, 124),\n",
       " (0.001886680919593883, 129),\n",
       " (0.0018772900599102608, 132),\n",
       " (0.0018277319225193842, 134),\n",
       " (0.0018255451735206818, 114),\n",
       " (0.0018200455709134857, 135),\n",
       " (0.001771918668453662, 107),\n",
       " (0.001751284570786283, 127),\n",
       " (0.001749162557458461, 130),\n",
       " (0.0016219113499344638, 111),\n",
       " (0.0016178664345488302, 121),\n",
       " (0.001615101167907152, 136),\n",
       " (0.0016147598157595102, 122),\n",
       " (0.0015903108960075327, 133),\n",
       " (0.001535664293496839, 112),\n",
       " (0.0015165474132122381, 125),\n",
       " (0.0015047951828250825, 118),\n",
       " (0.0014814529053001923, 113),\n",
       " (0.0014758964438793016, 110),\n",
       " (0.0014709442516674563, 123),\n",
       " (0.0014179922162657003, 119),\n",
       " (0.0014011800688296897, 128),\n",
       " (0.0012928738472555595, 126),\n",
       " (0.001285886903598441, 138),\n",
       " (0.0012779362374127166, 139),\n",
       " (0.001232894171293286, 115),\n",
       " (0.0011672603433810931, 120),\n",
       " (0.001149937997280274, 116),\n",
       " (0.0011255779869392619, 117),\n",
       " (0.001087309168330754, 137),\n",
       " (0.0008746750854898562, 140),\n",
       " (0.0008083012363730734, 141),\n",
       " (0.0007345492655423779, 142),\n",
       " (0.0007099645532949389, 143),\n",
       " (0.0007044830409146726, 186),\n",
       " (0.000627396509487917, 147),\n",
       " (0.0005711129286644402, 144),\n",
       " (0.0005553968888395344, 145),\n",
       " (0.0005399273475345226, 154),\n",
       " (0.000539024208199234, 148),\n",
       " (0.0005329462017054428, 157),\n",
       " (0.0004805146502786877, 146),\n",
       " (0.0004786681129322541, 185),\n",
       " (0.00046906495446206206, 180),\n",
       " (0.0004686291522239185, 183),\n",
       " (0.0004635023275992372, 149),\n",
       " (0.00045953756371467605, 155),\n",
       " (0.0004478840864363874, 156),\n",
       " (0.0004408649102737908, 178),\n",
       " (0.0004345077253461302, 152),\n",
       " (0.0004321752601171842, 162),\n",
       " (0.00042769762895645733, 153),\n",
       " (0.00041055137579503175, 160),\n",
       " (0.0004080667995988954, 151),\n",
       " (0.00038969347692200784, 150),\n",
       " (0.00034278102888859097, 159),\n",
       " (0.00033286012734963234, 182),\n",
       " (0.0003159217779293916, 161),\n",
       " (0.00030913415165349805, 184),\n",
       " (0.0003060417041386333, 164),\n",
       " (0.0003030654107793793, 181),\n",
       " (0.0002933094297355923, 177),\n",
       " (0.0002712707217639648, 167),\n",
       " (0.00027018348750828034, 166),\n",
       " (0.0002649817082959462, 179),\n",
       " (0.0002647085521698737, 174),\n",
       " (0.00025247542636324614, 171),\n",
       " (0.00024538217231504146, 158),\n",
       " (0.0002410648611424897, 168),\n",
       " (0.00023735668228937488, 172),\n",
       " (0.0002355940762638933, 170),\n",
       " (0.00023472955741143782, 169),\n",
       " (0.00022468772384829985, 173),\n",
       " (0.00022151850230950465, 163),\n",
       " (0.00021042101953246912, 175),\n",
       " (0.00020616921136321968, 165),\n",
       " (0.00018486854676814335, 176)]"
      ]
     },
     "execution_count": 8,
     "metadata": {},
     "output_type": "execute_result"
    }
   ],
   "source": [
    "sorted(zip(rf.feature_importances_, feature_names), reverse=True)"
   ]
  },
  {
   "cell_type": "code",
   "execution_count": 9,
   "metadata": {},
   "outputs": [],
   "source": [
    "xx = list(range(0,187))\n",
    "import matplotlib.pyplot as plt"
   ]
  },
  {
   "cell_type": "code",
   "execution_count": 35,
   "metadata": {},
   "outputs": [
    {
     "data": {
      "image/png": "[encoded data removed]",
      "text/plain": [
       "<Figure size 432x288 with 1 Axes>"
      ]
     },
     "metadata": {},
     "output_type": "display_data"
    }
   ],
   "source": [
    "my_data_0__N = data.iloc[72281]\n",
    "plt.title(\"Type: N\")\n",
    "plt.plot(xx, my_data_0__N)\n",
    "\n",
    "### Save Figure\n",
    "plt.savefig(\"../Images/Type-N.png\")"
   ]
  },
  {
   "cell_type": "code",
   "execution_count": 36,
   "metadata": {},
   "outputs": [
    {
     "data": {
      "image/png": "[encoded data removed]",
      "text/plain": [
       "<Figure size 432x288 with 1 Axes>"
      ]
     },
     "metadata": {},
     "output_type": "display_data"
    }
   ],
   "source": [
    "my_data_1__S = data.iloc[72515]\n",
    "plt.title(\"Type: S\")\n",
    "plt.plot(xx, my_data_1__S)\n",
    "\n",
    "### Save Figure\n",
    "plt.savefig(\"Tpye-S.png\")"
   ]
  },
  {
   "cell_type": "code",
   "execution_count": 37,
   "metadata": {},
   "outputs": [
    {
     "data": {
      "image/png": "[encoded data removed]",
      "text/plain": [
       "<Figure size 432x288 with 1 Axes>"
      ]
     },
     "metadata": {},
     "output_type": "display_data"
    }
   ],
   "source": [
    "my_data_2__V = data.iloc[74958]\n",
    "plt.title(\"Type: V\")\n",
    "plt.plot(xx, my_data_2__V)\n",
    "\n",
    "### Save Figure\n",
    "plt.savefig(\"Type-V.png\")"
   ]
  },
  {
   "cell_type": "code",
   "execution_count": 38,
   "metadata": {},
   "outputs": [
    {
     "data": {
      "image/png": "[encoded data removed]",
      "text/plain": [
       "<Figure size 432x288 with 1 Axes>"
      ]
     },
     "metadata": {},
     "output_type": "display_data"
    }
   ],
   "source": [
    "my_data_3__F = data.iloc[80999]\n",
    "plt.title(\"Type: F\")\n",
    "plt.plot(xx, my_data_3__F)\n",
    "\n",
    "### Save Figure\n",
    "plt.savefig(\"Type-F.png\")"
   ]
  },
  {
   "cell_type": "code",
   "execution_count": 39,
   "metadata": {},
   "outputs": [
    {
     "data": {
      "image/png": "[encoded data removed]",
      "text/plain": [
       "<Figure size 432x288 with 1 Axes>"
      ]
     },
     "metadata": {},
     "output_type": "display_data"
    }
   ],
   "source": [
    "my_data_4__Q = data.iloc[87549]\n",
    "plt.title(\"Type: Q\")\n",
    "plt.plot(xx, my_data_4__Q)\n",
    "\n",
    "### Save Figure\n",
    "plt.savefig(\"Type-Q.png\")"
   ]
  },
  {
   "cell_type": "code",
   "execution_count": 20,
   "metadata": {},
   "outputs": [
    {
     "name": "stdout",
     "output_type": "stream",
     "text": [
      "        0         1         2         3         4         5         6    \\\n",
      "0  1.000000  0.900324  0.358590  0.051459  0.046596  0.126823  0.133306   \n",
      "1  1.000000  0.794681  0.375387  0.116883  0.000000  0.171923  0.283859   \n",
      "2  0.909029  0.791482  0.423169  0.186712  0.000000  0.007836  0.063032   \n",
      "3  1.000000  0.478893  0.056760  0.064176  0.081289  0.072732  0.055619   \n",
      "4  1.000000  0.867238  0.201360  0.099349  0.141336  0.120934  0.108516   \n",
      "\n",
      "        7         8         9   ...   178  179  180  181  182  183  184  185  \\\n",
      "0  0.119125  0.110616  0.113047 ...   0.0  0.0  0.0  0.0  0.0  0.0  0.0  0.0   \n",
      "1  0.293754  0.325912  0.345083 ...   0.0  0.0  0.0  0.0  0.0  0.0  0.0  0.0   \n",
      "2  0.077002  0.074957  0.077342 ...   0.0  0.0  0.0  0.0  0.0  0.0  0.0  0.0   \n",
      "3  0.048774  0.054478  0.041643 ...   0.0  0.0  0.0  0.0  0.0  0.0  0.0  0.0   \n",
      "4  0.096393  0.093436  0.100828 ...   0.0  0.0  0.0  0.0  0.0  0.0  0.0  0.0   \n",
      "\n",
      "   186  187  \n",
      "0  0.0  0.0  \n",
      "1  0.0  0.0  \n",
      "2  0.0  0.0  \n",
      "3  0.0  0.0  \n",
      "4  0.0  0.0  \n",
      "\n",
      "[5 rows x 188 columns]\n"
     ]
    }
   ],
   "source": [
    "df_2 = pd.read_csv(os.path.join(\"\",\"ptbdb_normal.csv\"), header=None)\n",
    "#df_2.head()\n",
    "print(df_2.head(5))"
   ]
  },
  {
   "cell_type": "code",
   "execution_count": 40,
   "metadata": {},
   "outputs": [],
   "source": [
    "#############################################   \n",
    "### The PTB Diagnostic ECG Database\n",
    "### Number of Samples: 14552\n",
    "### Number of Categories: 2\n",
    "### Sampling Frequency: 125Hz\n",
    "### Data Source: Physionet's PTB Diagnostic Database\n",
    "### Remark: All the samples are cropped, downsampled and padded with zeroes if necessary to the fixed dimension of 188.\n",
    "#############################################"
   ]
  },
  {
   "cell_type": "code",
   "execution_count": null,
   "metadata": {},
   "outputs": [],
   "source": []
  }
 ],
 "metadata": {
  "kernelspec": {
   "display_name": "Python 3",
   "language": "python",
   "name": "python3"
  },
  "language_info": {
   "codemirror_mode": {
    "name": "ipython",
    "version": 3
   },
   "file_extension": ".py",
   "mimetype": "text/x-python",
   "name": "python",
   "nbconvert_exporter": "python",
   "pygments_lexer": "ipython3",
   "version": "3.6.7"
  },
  "varInspector": {
   "cols": {
    "lenName": 16,
    "lenType": 16,
    "lenVar": 40
   },
   "kernels_config": {
    "python": {
     "delete_cmd_postfix": "",
     "delete_cmd_prefix": "del ",
     "library": "var_list.py",
     "varRefreshCmd": "print(var_dic_list())"
    },
    "r": {
     "delete_cmd_postfix": ") ",
     "delete_cmd_prefix": "rm(",
     "library": "var_list.r",
     "varRefreshCmd": "cat(var_dic_list()) "
    }
   },
   "types_to_exclude": [
    "module",
    "function",
    "builtin_function_or_method",
    "instance",
    "_Feature"
   ],
   "window_display": false
  }
 },
 "nbformat": 4,
 "nbformat_minor": 2
}
